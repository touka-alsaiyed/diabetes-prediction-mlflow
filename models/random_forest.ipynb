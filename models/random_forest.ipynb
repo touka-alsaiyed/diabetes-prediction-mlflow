{
 "cells": [
  {
   "cell_type": "code",
   "execution_count": 25,
   "metadata": {},
   "outputs": [],
   "source": [
    "import mlflow\n",
    "import mlflow.sklearn\n",
    "import pandas as pd\n",
    "from sklearn.model_selection import train_test_split\n",
    "from sklearn.preprocessing import StandardScaler\n",
    "from sklearn.ensemble import RandomForestClassifier\n",
    "from sklearn.metrics import accuracy_score, precision_score, recall_score, f1_score, confusion_matrix, ConfusionMatrixDisplay, classification_report\n",
    "from mlflow.models.signature import infer_signature\n",
    "from hyperopt import fmin, tpe, hp, Trials, STATUS_OK\n",
    "import matplotlib.pyplot as plt\n",
    "import os"
   ]
  },
  {
   "cell_type": "code",
   "execution_count": 26,
   "metadata": {},
   "outputs": [],
   "source": [
    "df = pd.read_csv(\"/Users/touka/Desktop/BAU/forth year/s2/AIN3009/project/Mlflow_project/data/diabetes_cleaned.csv\")"
   ]
  },
  {
   "cell_type": "code",
   "execution_count": 27,
   "metadata": {},
   "outputs": [],
   "source": [
    "# Separate Features and Target\n",
    "X = df.drop(\"Outcome\", axis=1)\n",
    "y = df[\"Outcome\"]\n",
    "\n",
    "# Split into Train/Test Sets\n",
    "X_train, X_test, y_train, y_test = train_test_split(\n",
    "    X, y, test_size=0.2, stratify=y, random_state=42\n",
    ")"
   ]
  },
  {
   "cell_type": "code",
   "execution_count": 28,
   "metadata": {},
   "outputs": [],
   "source": [
    "# Define a function to log classification metrics and artifacts to MLflow\n",
    "def log_classification_metrics(y_true, y_pred, prefix=\"\"):\n",
    "    acc = accuracy_score(y_true, y_pred)\n",
    "    prec = precision_score(y_true, y_pred)\n",
    "    rec = recall_score(y_true, y_pred)\n",
    "    f1 = f1_score(y_true, y_pred)\n",
    "\n",
    "    mlflow.log_metric(f\"{prefix}accuracy\", acc)\n",
    "    mlflow.log_metric(f\"{prefix}precision\", prec)\n",
    "    mlflow.log_metric(f\"{prefix}recall\", rec)\n",
    "    mlflow.log_metric(f\"{prefix}f1_score\", f1)\n",
    "\n",
    "    # Confusion Matrix\n",
    "    cm = confusion_matrix(y_true, y_pred)\n",
    "    disp = ConfusionMatrixDisplay(confusion_matrix=cm)\n",
    "    disp.plot(cmap='Blues', values_format='d')\n",
    "    cm_filename = f\"{prefix}confusion_matrix.png\"\n",
    "    plt.savefig(cm_filename)\n",
    "    mlflow.log_artifact(cm_filename)\n",
    "    plt.close()\n",
    "\n",
    "    # Classification Report\n",
    "    report = classification_report(y_true, y_pred)\n",
    "    report_filename = f\"{prefix}classification_report.txt\"\n",
    "    with open(report_filename, \"w\") as f:\n",
    "        f.write(report)\n",
    "    mlflow.log_artifact(report_filename)\n",
    "    \n",
    "    # Clean up\n",
    "    os.remove(cm_filename)\n",
    "    os.remove(report_filename)"
   ]
  },
  {
   "cell_type": "code",
   "execution_count": 29,
   "metadata": {},
   "outputs": [
    {
     "name": "stderr",
     "output_type": "stream",
     "text": [
      "/Users/touka/Desktop/BAU/forth year/s2/AIN3009/project/Mlflow_project/mlflow_env/lib/python3.12/site-packages/mlflow/types/utils.py:452: UserWarning: Hint: Inferred schema contains integer column(s). Integer columns in Python cannot represent missing values. If your input data contains missing values at inference time, it will be encoded as floats and will cause a schema enforcement error. The best way to avoid this problem is to infer the model schema based on a realistic data sample (training dataset) that includes missing values. Alternatively, you can declare integer columns as doubles (float64) whenever these columns may have missing values. See `Handling Integers With Missing Values <https://www.mlflow.org/docs/latest/models.html#handling-integers-with-missing-values>`_ for more details.\n",
      "  warnings.warn(\n",
      "Registered model 'DiabetesModel' already exists. Creating a new version of this model...\n",
      "Created version '5' of model 'DiabetesModel'.\n"
     ]
    }
   ],
   "source": [
    "# Train a baseline Logistic Regression model and log parameters and model to MLflow\n",
    "mlflow.set_tracking_uri(\"file:///Users/touka/Desktop/BAU/forth year/s2/AIN3009/project/Mlflow_project/mlruns\")\n",
    "mlflow.set_experiment(\"Diabetes_Prediction_Experiment\")\n",
    "\n",
    "with mlflow.start_run(run_name=\"RF-Training\"):\n",
    "    mlflow.set_tag(\"model\", \"RandomForest\")\n",
    "    mlflow.set_tag(\"type\", \"baseline\")\n",
    "\n",
    "    rf = RandomForestClassifier(n_estimators=100, max_depth=5, random_state=42)\n",
    "    rf.fit(X_train, y_train)\n",
    "\n",
    "    # Predict and evaluate\n",
    "    y_pred = rf.predict(X_test)\n",
    "   \n",
    "    mlflow.log_params({\"n_estimators\": 100, \"max_depth\": 5})\n",
    "    log_classification_metrics(y_test, y_pred)\n",
    "\n",
    "    signature = infer_signature(X_test, y_pred)\n",
    "    mlflow.sklearn.log_model(rf, \"rf_model\", signature=signature)\n",
    "    mlflow.register_model(f\"runs:/{mlflow.active_run().info.run_id}/rf_model\", \"DiabetesModel\")\n"
   ]
  },
  {
   "cell_type": "code",
   "execution_count": 30,
   "metadata": {},
   "outputs": [
    {
     "name": "stdout",
     "output_type": "stream",
     "text": [
      "  0%|          | 0/5 [00:00<?, ?trial/s, best loss=?]"
     ]
    },
    {
     "name": "stderr",
     "output_type": "stream",
     "text": [
      "/Users/touka/Desktop/BAU/forth year/s2/AIN3009/project/Mlflow_project/mlflow_env/lib/python3.12/site-packages/mlflow/types/utils.py:452: UserWarning: Hint: Inferred schema contains integer column(s). Integer columns in Python cannot represent missing values. If your input data contains missing values at inference time, it will be encoded as floats and will cause a schema enforcement error. The best way to avoid this problem is to infer the model schema based on a realistic data sample (training dataset) that includes missing values. Alternatively, you can declare integer columns as doubles (float64) whenever these columns may have missing values. See `Handling Integers With Missing Values <https://www.mlflow.org/docs/latest/models.html#handling-integers-with-missing-values>`_ for more details.\n",
      "  warnings.warn(\n",
      "\n"
     ]
    },
    {
     "name": "stdout",
     "output_type": "stream",
     "text": [
      " 20%|██        | 1/5 [00:05<00:21,  5.35s/trial, best loss: -0.759927797833935]"
     ]
    },
    {
     "name": "stderr",
     "output_type": "stream",
     "text": [
      "/Users/touka/Desktop/BAU/forth year/s2/AIN3009/project/Mlflow_project/mlflow_env/lib/python3.12/site-packages/mlflow/types/utils.py:452: UserWarning: Hint: Inferred schema contains integer column(s). Integer columns in Python cannot represent missing values. If your input data contains missing values at inference time, it will be encoded as floats and will cause a schema enforcement error. The best way to avoid this problem is to infer the model schema based on a realistic data sample (training dataset) that includes missing values. Alternatively, you can declare integer columns as doubles (float64) whenever these columns may have missing values. See `Handling Integers With Missing Values <https://www.mlflow.org/docs/latest/models.html#handling-integers-with-missing-values>`_ for more details.\n",
      "  warnings.warn(\n",
      "\n"
     ]
    },
    {
     "name": "stdout",
     "output_type": "stream",
     "text": [
      " 40%|████      | 2/5 [00:10<00:16,  5.43s/trial, best loss: -0.9638989169675091]"
     ]
    },
    {
     "name": "stderr",
     "output_type": "stream",
     "text": [
      "/Users/touka/Desktop/BAU/forth year/s2/AIN3009/project/Mlflow_project/mlflow_env/lib/python3.12/site-packages/mlflow/types/utils.py:452: UserWarning: Hint: Inferred schema contains integer column(s). Integer columns in Python cannot represent missing values. If your input data contains missing values at inference time, it will be encoded as floats and will cause a schema enforcement error. The best way to avoid this problem is to infer the model schema based on a realistic data sample (training dataset) that includes missing values. Alternatively, you can declare integer columns as doubles (float64) whenever these columns may have missing values. See `Handling Integers With Missing Values <https://www.mlflow.org/docs/latest/models.html#handling-integers-with-missing-values>`_ for more details.\n",
      "  warnings.warn(\n",
      "\n"
     ]
    },
    {
     "name": "stdout",
     "output_type": "stream",
     "text": [
      " 60%|██████    | 3/5 [00:16<00:10,  5.36s/trial, best loss: -0.9638989169675091]"
     ]
    },
    {
     "name": "stderr",
     "output_type": "stream",
     "text": [
      "/Users/touka/Desktop/BAU/forth year/s2/AIN3009/project/Mlflow_project/mlflow_env/lib/python3.12/site-packages/mlflow/types/utils.py:452: UserWarning: Hint: Inferred schema contains integer column(s). Integer columns in Python cannot represent missing values. If your input data contains missing values at inference time, it will be encoded as floats and will cause a schema enforcement error. The best way to avoid this problem is to infer the model schema based on a realistic data sample (training dataset) that includes missing values. Alternatively, you can declare integer columns as doubles (float64) whenever these columns may have missing values. See `Handling Integers With Missing Values <https://www.mlflow.org/docs/latest/models.html#handling-integers-with-missing-values>`_ for more details.\n",
      "  warnings.warn(\n",
      "\n"
     ]
    },
    {
     "name": "stdout",
     "output_type": "stream",
     "text": [
      " 80%|████████  | 4/5 [00:21<00:05,  5.37s/trial, best loss: -0.9638989169675091]"
     ]
    },
    {
     "name": "stderr",
     "output_type": "stream",
     "text": [
      "/Users/touka/Desktop/BAU/forth year/s2/AIN3009/project/Mlflow_project/mlflow_env/lib/python3.12/site-packages/mlflow/types/utils.py:452: UserWarning: Hint: Inferred schema contains integer column(s). Integer columns in Python cannot represent missing values. If your input data contains missing values at inference time, it will be encoded as floats and will cause a schema enforcement error. The best way to avoid this problem is to infer the model schema based on a realistic data sample (training dataset) that includes missing values. Alternatively, you can declare integer columns as doubles (float64) whenever these columns may have missing values. See `Handling Integers With Missing Values <https://www.mlflow.org/docs/latest/models.html#handling-integers-with-missing-values>`_ for more details.\n",
      "  warnings.warn(\n",
      "\n"
     ]
    },
    {
     "name": "stdout",
     "output_type": "stream",
     "text": [
      "100%|██████████| 5/5 [00:28<00:00,  5.79s/trial, best loss: -0.9638989169675091]\n"
     ]
    },
    {
     "name": "stderr",
     "output_type": "stream",
     "text": [
      "/Users/touka/Desktop/BAU/forth year/s2/AIN3009/project/Mlflow_project/mlflow_env/lib/python3.12/site-packages/mlflow/types/utils.py:452: UserWarning: Hint: Inferred schema contains integer column(s). Integer columns in Python cannot represent missing values. If your input data contains missing values at inference time, it will be encoded as floats and will cause a schema enforcement error. The best way to avoid this problem is to infer the model schema based on a realistic data sample (training dataset) that includes missing values. Alternatively, you can declare integer columns as doubles (float64) whenever these columns may have missing values. See `Handling Integers With Missing Values <https://www.mlflow.org/docs/latest/models.html#handling-integers-with-missing-values>`_ for more details.\n",
      "  warnings.warn(\n",
      "Registered model 'DiabetesModel' already exists. Creating a new version of this model...\n",
      "Created version '6' of model 'DiabetesModel'.\n"
     ]
    }
   ],
   "source": [
    "# Hyperopt Tuning\n",
    "rf_space = {\n",
    "    \"n_estimators\": hp.choice(\"n_estimators\", [50, 100, 200]),\n",
    "    \"max_depth\": hp.choice(\"max_depth\", [3, 5, 7, 10]),\n",
    "    \"min_samples_split\": hp.choice(\"min_samples_split\", [2, 4, 6])\n",
    "}\n",
    "\n",
    "def rf_objective(params):\n",
    "    with mlflow.start_run(run_name=f\"RF-Tune-{params['n_estimators']}-{params['max_depth']}\", nested=True):\n",
    "        mlflow.set_tag(\"model\", \"RandomForest\")\n",
    "        mlflow.set_tag(\"type\", \"tuning\")\n",
    "\n",
    "        model = RandomForestClassifier(**params, random_state=42)\n",
    "        model.fit(X_train, y_train)\n",
    "        y_pred = model.predict(X_test)\n",
    "\n",
    "        mlflow.log_params(params)\n",
    "        log_classification_metrics(y_test, y_pred)\n",
    "\n",
    "        signature = infer_signature(X_test, y_pred)\n",
    "        mlflow.sklearn.log_model(model, \"rf_model\", signature=signature)\n",
    "\n",
    "        return {\"loss\": -accuracy_score(y_test, y_pred), \"status\": STATUS_OK}\n",
    "\n",
    "rf_trials = Trials()\n",
    "best_rf = fmin(fn=rf_objective, space=rf_space, algo=tpe.suggest, max_evals=5, trials=rf_trials)\n",
    "\n",
    "rf_space_mapping = {\n",
    "    \"n_estimators\": [50, 100, 200],\n",
    "    \"max_depth\": [3, 5, 7, 10],\n",
    "    \"min_samples_split\": [2, 4, 6]\n",
    "}\n",
    "\n",
    "best_rf_params = {\n",
    "    \"n_estimators\": rf_space_mapping[\"n_estimators\"][best_rf[\"n_estimators\"]],\n",
    "    \"max_depth\": rf_space_mapping[\"max_depth\"][best_rf[\"max_depth\"]],\n",
    "    \"min_samples_split\": rf_space_mapping[\"min_samples_split\"][best_rf[\"min_samples_split\"]]\n",
    "}\n",
    "\n",
    "final_rf = RandomForestClassifier(**best_rf_params, random_state=42)\n",
    "final_rf.fit(X_train, y_train)\n",
    "final_rf_pred = final_rf.predict(X_test)\n",
    "\n",
    "# log the best Random Forest model\n",
    "with mlflow.start_run(run_name=\"RF-Best-Tuned\"):\n",
    "    mlflow.set_tag(\"model\", \"RandomForest\")\n",
    "    mlflow.set_tag(\"type\", \"best_tuned\")\n",
    "\n",
    "    mlflow.log_params(best_rf_params)\n",
    "    log_classification_metrics(y_test, final_rf_pred)\n",
    "\n",
    "    signature = infer_signature(X_test, final_rf_pred)\n",
    "    mlflow.sklearn.log_model(final_rf, \"rf_model\", signature=signature)\n",
    "    mlflow.register_model(f\"runs:/{mlflow.active_run().info.run_id}/rf_model\", \"DiabetesModel\")"
   ]
  }
 ],
 "metadata": {
  "kernelspec": {
   "display_name": "mlflow_env",
   "language": "python",
   "name": "python3"
  },
  "language_info": {
   "codemirror_mode": {
    "name": "ipython",
    "version": 3
   },
   "file_extension": ".py",
   "mimetype": "text/x-python",
   "name": "python",
   "nbconvert_exporter": "python",
   "pygments_lexer": "ipython3",
   "version": "3.12.1"
  }
 },
 "nbformat": 4,
 "nbformat_minor": 2
}
