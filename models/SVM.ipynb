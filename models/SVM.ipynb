{
 "cells": [
  {
   "cell_type": "code",
   "execution_count": 24,
   "metadata": {},
   "outputs": [],
   "source": [
    "import mlflow\n",
    "import mlflow.sklearn\n",
    "from sklearn.model_selection import train_test_split\n",
    "from sklearn.preprocessing import StandardScaler\n",
    "from sklearn.svm import SVC\n",
    "from sklearn.metrics import accuracy_score, precision_score, recall_score, f1_score\n",
    "from mlflow.models.signature import infer_signature\n",
    "from hyperopt import fmin, tpe, hp, Trials, STATUS_OK\n",
    "import pandas as pd\n",
    "from sklearn.metrics import confusion_matrix, ConfusionMatrixDisplay\n",
    "import matplotlib.pyplot as plt\n",
    "from sklearn.metrics import classification_report\n",
    "import os\n",
    "import json\n"
   ]
  },
  {
   "cell_type": "code",
   "execution_count": 25,
   "metadata": {},
   "outputs": [],
   "source": [
    "df = pd.read_csv(\"/Users/touka/Desktop/BAU/forth year/s2/AIN3009/project/Mlflow_project/data/diabetes_cleaned.csv\")"
   ]
  },
  {
   "cell_type": "code",
   "execution_count": 26,
   "metadata": {},
   "outputs": [],
   "source": [
    "# Separate Features and Target\n",
    "X = df.drop(\"Outcome\", axis=1)\n",
    "y = df[\"Outcome\"]\n",
    "\n",
    "# Split into Train/Test Sets\n",
    "X_train, X_test, y_train, y_test = train_test_split(\n",
    "    X, y, test_size=0.2, stratify=y, random_state=42\n",
    ")\n",
    "\n",
    "# Scale features \n",
    "scaler = StandardScaler()\n",
    "X_train_scaled = scaler.fit_transform(X_train)\n",
    "X_test_scaled = scaler.transform(X_test)"
   ]
  },
  {
   "cell_type": "code",
   "execution_count": 27,
   "metadata": {},
   "outputs": [],
   "source": [
    "# Define a function to log classification metrics and artifacts to MLflow\n",
    "def log_classification_metrics(y_true, y_pred, prefix=\"\"):\n",
    "    acc = accuracy_score(y_true, y_pred)\n",
    "    prec = precision_score(y_true, y_pred)\n",
    "    rec = recall_score(y_true, y_pred)\n",
    "    f1 = f1_score(y_true, y_pred)\n",
    "\n",
    "    mlflow.log_metric(f\"{prefix}accuracy\", acc)\n",
    "    mlflow.log_metric(f\"{prefix}precision\", prec)\n",
    "    mlflow.log_metric(f\"{prefix}recall\", rec)\n",
    "    mlflow.log_metric(f\"{prefix}f1_score\", f1)\n",
    "\n",
    "    # Confusion Matrix\n",
    "    cm = confusion_matrix(y_true, y_pred)\n",
    "    disp = ConfusionMatrixDisplay(confusion_matrix=cm)\n",
    "    disp.plot(cmap=\"Blues\", values_format='d')\n",
    "    cm_file = f\"{prefix}confusion_matrix.png\"\n",
    "    plt.savefig(cm_file)\n",
    "    mlflow.log_artifact(cm_file)\n",
    "    plt.close()\n",
    "\n",
    "    # Classification Report\n",
    "    report = classification_report(y_true, y_pred)\n",
    "    report_file = f\"{prefix}classification_report.txt\"\n",
    "    with open(report_file, \"w\") as f:\n",
    "        f.write(report)\n",
    "    mlflow.log_artifact(report_file)\n",
    "\n",
    "    # Clean up\n",
    "    os.remove(cm_file)\n",
    "    os.remove(report_file)"
   ]
  },
  {
   "cell_type": "code",
   "execution_count": 28,
   "metadata": {},
   "outputs": [
    {
     "name": "stderr",
     "output_type": "stream",
     "text": [
      "Registered model 'DiabetesModel' already exists. Creating a new version of this model...\n",
      "Created version '3' of model 'DiabetesModel'.\n"
     ]
    }
   ],
   "source": [
    "# Train a baseline Logistic Regression model and log parameters and model to MLflow\n",
    "mlflow.set_tracking_uri(\"file:///Users/touka/Desktop/BAU/forth year/s2/AIN3009/project/Mlflow_project/mlruns\")\n",
    "mlflow.set_experiment(\"Diabetes_Prediction_Experiment\")\n",
    "\n",
    "with mlflow.start_run(run_name=\"SVM_Training\"):\n",
    "    mlflow.set_tag(\"model\", \"SVM\")\n",
    "    mlflow.set_tag(\"type\", \"baseline\")\n",
    "    \n",
    "    model = SVC(kernel=\"rbf\", C=1.0, gamma=\"scale\", probability=True, random_state=42)\n",
    "    model.fit(X_train_scaled, y_train)\n",
    "    y_pred = model.predict(X_test_scaled)\n",
    "\n",
    "    mlflow.log_params({\"kernel\": \"rbf\", \"C\": 1.0, \"gamma\": \"scale\"})\n",
    "    log_classification_metrics(y_test, y_pred)\n",
    "\n",
    "    signature = infer_signature(X_test_scaled, y_pred)\n",
    "    mlflow.sklearn.log_model(model, \"svm_model\", signature=signature)\n",
    "    mlflow.register_model(f\"runs:/{mlflow.active_run().info.run_id}/svm_model\", \"DiabetesModel\")\n"
   ]
  },
  {
   "cell_type": "code",
   "execution_count": 29,
   "metadata": {},
   "outputs": [
    {
     "name": "stdout",
     "output_type": "stream",
     "text": [
      "100%|██████████| 5/5 [00:28<00:00,  5.75s/trial, best loss: -0.9187725631768953]\n"
     ]
    },
    {
     "name": "stderr",
     "output_type": "stream",
     "text": [
      "Registered model 'DiabetesModel' already exists. Creating a new version of this model...\n",
      "Created version '4' of model 'DiabetesModel'.\n"
     ]
    }
   ],
   "source": [
    "# Hyperopt Tuning\n",
    "space = {\n",
    "    \"C\": hp.loguniform(\"C\", -4, 2),\n",
    "    \"gamma\": hp.loguniform(\"gamma\", -4, 1),\n",
    "    \"kernel\": hp.choice(\"kernel\", [\"linear\", \"rbf\"])\n",
    "}\n",
    "\n",
    "def objective(params):\n",
    "    kernel_name = params[\"kernel\"]\n",
    "    with mlflow.start_run(run_name=f\"SVM-Tune-{kernel_name}\", nested=True):\n",
    "        mlflow.set_tag(\"model\", \"SVM\")\n",
    "        mlflow.set_tag(\"type\", \"tuning\")\n",
    "\n",
    "        model = SVC(**params, probability=True, random_state=42)\n",
    "        model.fit(X_train_scaled, y_train)\n",
    "        y_pred = model.predict(X_test_scaled)\n",
    "\n",
    "        mlflow.log_params(params)\n",
    "        log_classification_metrics(y_test, y_pred)\n",
    "\n",
    "        signature = infer_signature(X_test_scaled, y_pred)\n",
    "        mlflow.sklearn.log_model(model, \"svm_model\", signature=signature)\n",
    "\n",
    "        acc = accuracy_score(y_test, y_pred)\n",
    "        return {\"loss\": -acc, \"status\": STATUS_OK}\n",
    "\n",
    "trials = Trials()\n",
    "best_params = fmin(fn=objective, space=space, algo=tpe.suggest, max_evals=5, trials=trials)\n",
    "\n",
    "# Map kernel index to string\n",
    "kernels = [\"linear\", \"rbf\"]\n",
    "best_params[\"kernel\"] = kernels[best_params[\"kernel\"]]\n",
    "\n",
    "# log the best SVM model\n",
    "final_model = SVC(**best_params, probability=True, random_state=42)\n",
    "final_model.fit(X_train_scaled, y_train)\n",
    "final_pred = final_model.predict(X_test_scaled)\n",
    "\n",
    "with mlflow.start_run(run_name=\"SVM-Best-Tuned\"):\n",
    "    mlflow.set_tag(\"model\", \"SVM\")\n",
    "    mlflow.set_tag(\"type\", \"best_tuned\")\n",
    "\n",
    "    mlflow.log_params(best_params)\n",
    "    log_classification_metrics(y_test, final_pred)\n",
    "\n",
    "    signature = infer_signature(X_test_scaled, final_pred)\n",
    "    mlflow.sklearn.log_model(final_model, \"svm_model\", signature=signature)\n",
    "    mlflow.register_model(f\"runs:/{mlflow.active_run().info.run_id}/svm_model\", \"DiabetesModel\")\n"
   ]
  }
 ],
 "metadata": {
  "kernelspec": {
   "display_name": "mlflow_env",
   "language": "python",
   "name": "python3"
  },
  "language_info": {
   "codemirror_mode": {
    "name": "ipython",
    "version": 3
   },
   "file_extension": ".py",
   "mimetype": "text/x-python",
   "name": "python",
   "nbconvert_exporter": "python",
   "pygments_lexer": "ipython3",
   "version": "3.12.1"
  }
 },
 "nbformat": 4,
 "nbformat_minor": 2
}
